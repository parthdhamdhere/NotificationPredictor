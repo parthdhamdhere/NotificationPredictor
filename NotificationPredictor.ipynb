{
  "nbformat": 4,
  "nbformat_minor": 0,
  "metadata": {
    "colab": {
      "provenance": [],
      "authorship_tag": "ABX9TyOK4IeI0mfIuJ5FcTclGbQm",
      "include_colab_link": true
    },
    "kernelspec": {
      "name": "python3",
      "display_name": "Python 3"
    },
    "language_info": {
      "name": "python"
    }
  },
  "cells": [
    {
      "cell_type": "markdown",
      "metadata": {
        "id": "view-in-github",
        "colab_type": "text"
      },
      "source": [
        "<a href=\"https://colab.research.google.com/github/parthdhamdhere/NotificationPredictor/blob/main/NotificationPredictor.ipynb\" target=\"_parent\"><img src=\"https://colab.research.google.com/assets/colab-badge.svg\" alt=\"Open In Colab\"/></a>"
      ]
    },
    {
      "cell_type": "code",
      "execution_count": 18,
      "metadata": {
        "id": "l8zr8aaXuy2o"
      },
      "outputs": [],
      "source": [
        "import pandas as pd\n",
        "from sklearn.model_selection import train_test_split\n",
        "from sklearn.feature_extraction.text import TfidfVectorizer\n",
        "from sklearn.linear_model import LogisticRegression\n",
        "from sklearn.metrics import accuracy_score, classification_report\n",
        "import joblib\n",
        "import numpy as np"
      ]
    },
    {
      "cell_type": "code",
      "source": [
        "df = pd.read_csv('fnotifications.csv')  # Replace with your actual filename\n",
        "\n",
        "print(f\"✅ Data loaded successfully: {len(df)} rows\")\n",
        "print(f\"\\n📊 Dataset columns: {list(df.columns)}\")\n",
        "print(f\"\\n📈 Label distribution:\")\n",
        "print(df['label'].value_counts())\n",
        "\n",
        "# Display first few rows\n",
        "print(f\"\\n📋 Sample data:\")\n",
        "print(df.head())\n",
        "\n",
        "# Display app name distribution (optional)\n",
        "print(f\"\\n📱 App distribution:\")\n",
        "print(df['app_name'].value_counts().head(10))\n",
        "\n",
        "# Check for missing values\n",
        "print(f\"\\n🔍 Missing values:\")\n",
        "print(df.isnull().sum())\n"
      ],
      "metadata": {
        "colab": {
          "base_uri": "https://localhost:8080/"
        },
        "id": "YGvH8keQvVub",
        "outputId": "02b231a6-486f-41ec-93c1-5866e5b43d25"
      },
      "execution_count": 20,
      "outputs": [
        {
          "output_type": "stream",
          "name": "stdout",
          "text": [
            "✅ Data loaded successfully: 388 rows\n",
            "\n",
            "📊 Dataset columns: ['id', 'app_name', 'notification_text', 'label']\n",
            "\n",
            "📈 Label distribution:\n",
            "label\n",
            "URGENT    211\n",
            "NORMAL    177\n",
            "Name: count, dtype: int64\n",
            "\n",
            "📋 Sample data:\n",
            "   id   app_name                                 notification_text   label\n",
            "0   1     Zomato  Your order from Pizza Palace is out for delivery  URGENT\n",
            "1   2  Instagram        anshul_mehta and 12 others liked your post  NORMAL\n",
            "2   3     Swiggy        Don't miss out! 60% OFF on your next order  NORMAL\n",
            "3   4   WhatsApp    Mom: Call me when you're free. It's important.  URGENT\n",
            "4   5      Gmail          Your Amazon.in package has been shipped!  URGENT\n",
            "\n",
            "📱 App distribution:\n",
            "app_name\n",
            "BankApp       28\n",
            "Google Pay    27\n",
            "Cred          21\n",
            "Gmail         21\n",
            "Shopping      19\n",
            "Instagram     19\n",
            "Unknown       18\n",
            "Swiggy        16\n",
            "Truecaller    14\n",
            "Weather       13\n",
            "Name: count, dtype: int64\n",
            "\n",
            "🔍 Missing values:\n",
            "id                   0\n",
            "app_name             0\n",
            "notification_text    0\n",
            "label                0\n",
            "dtype: int64\n"
          ]
        }
      ]
    },
    {
      "cell_type": "code",
      "source": [
        "# Pre-processing: Handle potential missing values\n",
        "original_size = len(df)\n",
        "\n",
        "# Remove rows where notification_text or label is missing\n",
        "df = df.dropna(subset=['notification_text', 'label'])\n",
        "\n",
        "# Remove empty notification texts\n",
        "df = df[df['notification_text'].str.strip() != '']\n",
        "\n",
        "print(f\"📊 Data after cleaning: {len(df)} rows ({original_size - len(df)} removed)\")\n",
        "\n",
        "# You can optionally include app_name in features for better predictions\n",
        "# For now, we'll just use notification_text\n",
        "X = df['notification_text']\n",
        "y = df['label']\n",
        "\n",
        "# Optional: Show some examples by app\n",
        "print(f\"\\n📱 Sample notifications by app:\")\n",
        "for app in df['app_name'].unique()[:3]:  # Show first 3 apps\n",
        "    app_data = df[df['app_name'] == app].head(2)\n",
        "    print(f\"\\n{app}:\")\n",
        "    for _, row in app_data.iterrows():\n",
        "        print(f\"  • {row['notification_text']} → {row['label']}\")\n",
        "\n",
        "# Vectorize the Text Data\n",
        "vectorizer = TfidfVectorizer(stop_words='english', max_features=1000)\n",
        "X_vectorized = vectorizer.fit_transform(X)\n",
        "\n",
        "print(f\"🔤 Vectorized text shape: {X_vectorized.shape}\")\n",
        "\n",
        "# Split data into training and testing sets\n",
        "X_train, X_test, y_train, y_test = train_test_split(\n",
        "    X_vectorized, y, test_size=0.2, random_state=42, stratify=y\n",
        ")\n",
        "\n",
        "print(f\"📚 Training set size: {X_train.shape[0]}\")\n",
        "print(f\"🧪 Test set size: {X_test.shape[0]}\")"
      ],
      "metadata": {
        "colab": {
          "base_uri": "https://localhost:8080/"
        },
        "id": "a7XFdUyCvVx2",
        "outputId": "b61181a6-59a0-42dd-e598-d909b73b27dc"
      },
      "execution_count": 21,
      "outputs": [
        {
          "output_type": "stream",
          "name": "stdout",
          "text": [
            "📊 Data after cleaning: 388 rows (0 removed)\n",
            "\n",
            "📱 Sample notifications by app:\n",
            "\n",
            "Zomato:\n",
            "  • Your order from Pizza Palace is out for delivery → URGENT\n",
            "  • Late night cravings? Order now with 50% OFF → NORMAL\n",
            "\n",
            "Instagram:\n",
            "  • anshul_mehta and 12 others liked your post → NORMAL\n",
            "  • You have a new follower: @techgirl_98 → NORMAL\n",
            "\n",
            "Swiggy:\n",
            "  • Don't miss out! 60% OFF on your next order → NORMAL\n",
            "  • Try new restaurants near you → NORMAL\n",
            "🔤 Vectorized text shape: (388, 569)\n",
            "📚 Training set size: 310\n",
            "🧪 Test set size: 78\n"
          ]
        }
      ]
    },
    {
      "cell_type": "code",
      "source": [
        "# Train the Classification Model\n",
        "model = LogisticRegression(random_state=42)\n",
        "model.fit(X_train, y_train)\n",
        "\n",
        "# Evaluate the Model\n",
        "y_pred = model.predict(X_test)\n",
        "accuracy = accuracy_score(y_test, y_pred)\n",
        "\n",
        "print(f\"🎯 Model Accuracy: {accuracy:.2f}\")\n",
        "print(f\"\\n📋 Classification Report:\")\n",
        "print(classification_report(y_test, y_pred))\n",
        "\n",
        "# Save the trained model and vectorizer\n",
        "joblib.dump(model, 'notification_model.pkl')\n",
        "joblib.dump(vectorizer, 'vectorizer.pkl')\n",
        "print(f\"\\n✅ Model and vectorizer saved!\")"
      ],
      "metadata": {
        "colab": {
          "base_uri": "https://localhost:8080/"
        },
        "id": "_l34qB47vV09",
        "outputId": "35d3b1b0-23ca-46da-dc8b-2d8e27b4a999"
      },
      "execution_count": 22,
      "outputs": [
        {
          "output_type": "stream",
          "name": "stdout",
          "text": [
            "🎯 Model Accuracy: 0.91\n",
            "\n",
            "📋 Classification Report:\n",
            "              precision    recall  f1-score   support\n",
            "\n",
            "      NORMAL       0.84      1.00      0.91        36\n",
            "      URGENT       1.00      0.83      0.91        42\n",
            "\n",
            "    accuracy                           0.91        78\n",
            "   macro avg       0.92      0.92      0.91        78\n",
            "weighted avg       0.92      0.91      0.91        78\n",
            "\n",
            "\n",
            "✅ Model and vectorizer saved!\n"
          ]
        }
      ]
    },
    {
      "cell_type": "code",
      "source": [
        "\n",
        "def predict_priority(notification_text):\n",
        "    \"\"\"\n",
        "    Takes a string of notification text and predicts its priority.\n",
        "    \"\"\"\n",
        "    if not notification_text.strip():\n",
        "        return None, None\n",
        "\n",
        "    # Transform the text using the same vectorizer\n",
        "    text_vectorized = vectorizer.transform([notification_text])\n",
        "\n",
        "    # Make the prediction\n",
        "    prediction = model.predict(text_vectorized)\n",
        "    probability = model.predict_proba(text_vectorized)\n",
        "\n",
        "    return prediction[0], probability[0]\n",
        "\n",
        "def display_prediction(text):\n",
        "    \"\"\"Display prediction in a nice format\"\"\"\n",
        "    prediction, probability = predict_priority(text)\n",
        "\n",
        "    if prediction is None:\n",
        "        print(\"❌ Error making prediction!\")\n",
        "        return\n",
        "\n",
        "    # Get confidence score for the predicted class\n",
        "    confidence = max(probability)\n",
        "\n",
        "    print(\"\\n\" + \"=\"*50)\n",
        "    print(\"--- 🔔 NOTIFICATION PREDICTION ---\")\n",
        "    print(\"=\"*50)\n",
        "    print(f\"📝 Text: '{text}'\")\n",
        "    print(f\"🎯 Predicted: {prediction}\")\n",
        "    print(f\"📊 Confidence: {confidence:.2%}\")\n",
        "    print(\"-\"*50)\n",
        "\n",
        "    if prediction.upper() == 'URGENT':\n",
        "        print(\"🚨 Action: Play sound and vibrate! 🚨\")\n",
        "    else:\n",
        "        print(\"🤫 Action: Deliver silently. 🤫\")\n",
        "    print(\"=\"*50)\n",
        "\n",
        "print(\"✅ Prediction function ready!\")"
      ],
      "metadata": {
        "colab": {
          "base_uri": "https://localhost:8080/"
        },
        "id": "y1WGtCDIvV4J",
        "outputId": "b6b10837-794c-479f-a514-2ec1b6cedefa"
      },
      "execution_count": 23,
      "outputs": [
        {
          "output_type": "stream",
          "name": "stdout",
          "text": [
            "✅ Prediction function ready!\n"
          ]
        }
      ]
    },
    {
      "cell_type": "code",
      "source": [
        "# Test with some examples\n",
        "test_texts = [\n",
        "    \"URGENT ! Need immediate attention!\",\n",
        "    \"Weather forecast: Sunny with 75°F temperature\",\n",
        "    \"URGENT: Your password expires in 1 hour\",\n",
        "    \"New photo uploaded to cloud storage\"\n",
        "]\n",
        "\n",
        "print(\"🧪 TESTING PREDICTIONS:\")\n",
        "print(\"=\"*60)\n",
        "\n",
        "for text in test_texts:\n",
        "    display_prediction(text)\n"
      ],
      "metadata": {
        "colab": {
          "base_uri": "https://localhost:8080/"
        },
        "id": "tqS2nZhUvV7G",
        "outputId": "3dc7c881-56cd-4e3f-94ff-976abc04a21f"
      },
      "execution_count": 25,
      "outputs": [
        {
          "output_type": "stream",
          "name": "stdout",
          "text": [
            "🧪 TESTING PREDICTIONS:\n",
            "============================================================\n",
            "\n",
            "==================================================\n",
            "--- 🔔 NOTIFICATION PREDICTION ---\n",
            "==================================================\n",
            "📝 Text: 'URGENT ! Need immediate attention!'\n",
            "🎯 Predicted: URGENT\n",
            "📊 Confidence: 57.15%\n",
            "--------------------------------------------------\n",
            "🚨 Action: Play sound and vibrate! 🚨\n",
            "==================================================\n",
            "\n",
            "==================================================\n",
            "--- 🔔 NOTIFICATION PREDICTION ---\n",
            "==================================================\n",
            "📝 Text: 'Weather forecast: Sunny with 75°F temperature'\n",
            "🎯 Predicted: NORMAL\n",
            "📊 Confidence: 66.40%\n",
            "--------------------------------------------------\n",
            "🤫 Action: Deliver silently. 🤫\n",
            "==================================================\n",
            "\n",
            "==================================================\n",
            "--- 🔔 NOTIFICATION PREDICTION ---\n",
            "==================================================\n",
            "📝 Text: 'URGENT: Your password expires in 1 hour'\n",
            "🎯 Predicted: URGENT\n",
            "📊 Confidence: 75.39%\n",
            "--------------------------------------------------\n",
            "🚨 Action: Play sound and vibrate! 🚨\n",
            "==================================================\n",
            "\n",
            "==================================================\n",
            "--- 🔔 NOTIFICATION PREDICTION ---\n",
            "==================================================\n",
            "📝 Text: 'New photo uploaded to cloud storage'\n",
            "🎯 Predicted: NORMAL\n",
            "📊 Confidence: 77.49%\n",
            "--------------------------------------------------\n",
            "🤫 Action: Deliver silently. 🤫\n",
            "==================================================\n"
          ]
        }
      ]
    },
    {
      "cell_type": "code",
      "source": [
        "\n",
        "# You can test individual predictions here\n",
        "# Just change the text below and run this cell\n",
        "\n",
        "test_text = \"EMERGENCY: Battery critically low - 2% remaining!\"\n",
        "\n",
        "print(\"🔍 SINGLE PREDICTION TEST:\")\n",
        "display_prediction(test_text)\n"
      ],
      "metadata": {
        "colab": {
          "base_uri": "https://localhost:8080/"
        },
        "id": "yrWjID5VwJVI",
        "outputId": "5cfe368d-258c-4f1f-ffb4-944bb134785c"
      },
      "execution_count": 26,
      "outputs": [
        {
          "output_type": "stream",
          "name": "stdout",
          "text": [
            "🔍 SINGLE PREDICTION TEST:\n",
            "\n",
            "==================================================\n",
            "--- 🔔 NOTIFICATION PREDICTION ---\n",
            "==================================================\n",
            "📝 Text: 'EMERGENCY: Battery critically low - 2% remaining!'\n",
            "🎯 Predicted: URGENT\n",
            "📊 Confidence: 79.07%\n",
            "--------------------------------------------------\n",
            "🚨 Action: Play sound and vibrate! 🚨\n",
            "==================================================\n"
          ]
        }
      ]
    },
    {
      "cell_type": "code",
      "source": [
        "# Interactive testing - run this cell and enter text when prompted\n",
        "print(\"🔔 Interactive Notification Predictor\")\n",
        "print(\"=\"*40)\n",
        "print(\"Enter text below and run the cell to get prediction\")\n",
        "\n",
        "# Get user input in Colab\n",
        "user_text = input(\"Enter notification text: \")\n",
        "\n",
        "if user_text.strip():\n",
        "    display_prediction(user_text)\n",
        "else:\n",
        "    print(\"❌ Please enter some text!\")\n"
      ],
      "metadata": {
        "colab": {
          "base_uri": "https://localhost:8080/"
        },
        "id": "sWKbSuG8wJfU",
        "outputId": "59a39116-9375-469f-9309-310188afbc51"
      },
      "execution_count": 17,
      "outputs": [
        {
          "output_type": "stream",
          "name": "stdout",
          "text": [
            "🔔 Interactive Notification Predictor\n",
            "========================================\n",
            "Enter text below and run the cell to get prediction\n",
            "Enter notification text: family emergency\n",
            "\n",
            "==================================================\n",
            "--- 🔔 NOTIFICATION PREDICTION ---\n",
            "==================================================\n",
            "📝 Text: 'family emergency'\n",
            "🎯 Predicted: URGENT\n",
            "📊 Confidence: 60.79%\n",
            "--------------------------------------------------\n",
            "🚨 Action: Play sound and vibrate! 🚨\n",
            "==================================================\n"
          ]
        }
      ]
    }
  ]
}